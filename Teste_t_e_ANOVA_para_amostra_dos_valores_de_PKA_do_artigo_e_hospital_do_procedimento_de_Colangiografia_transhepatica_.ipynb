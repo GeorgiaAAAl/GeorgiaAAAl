{
  "nbformat": 4,
  "nbformat_minor": 0,
  "metadata": {
    "colab": {
      "provenance": [],
      "authorship_tag": "ABX9TyMBpKUcETiqrbjxSUsUauU7",
      "include_colab_link": true
    },
    "kernelspec": {
      "name": "python3",
      "display_name": "Python 3"
    },
    "language_info": {
      "name": "python"
    }
  },
  "cells": [
    {
      "cell_type": "markdown",
      "metadata": {
        "id": "view-in-github",
        "colab_type": "text"
      },
      "source": [
        "<a href=\"https://colab.research.google.com/github/GeorgiaAAAl/GeorgiaAAAl/blob/main/Teste_t_e_ANOVA_para_amostra_dos_valores_de_PKA_do_artigo_e_hospital_do_procedimento_de_Colangiografia_transhepatica_.ipynb\" target=\"_parent\"><img src=\"https://colab.research.google.com/assets/colab-badge.svg\" alt=\"Open In Colab\"/></a>"
      ]
    },
    {
      "cell_type": "markdown",
      "source": [],
      "metadata": {
        "id": "iKo6UmkXS60i"
      }
    },
    {
      "cell_type": "code",
      "source": [
        "# Etapa 1: Importar as bibliotecas necessárias\n",
        "import numpy as np\n",
        "import matplotlib.pyplot as plt\n",
        "from scipy import stats"
      ],
      "metadata": {
        "id": "atpZtm9xS6Wi"
      },
      "execution_count": null,
      "outputs": []
    },
    {
      "cell_type": "code",
      "source": [
        "# Etapa 2: Definir os dados de PKA do artigo e do hospital\n",
        "article_pka = [\n",
        "    6, 22, 68, 107, 179]\n",
        "hospital_pka = [\n",
        "    0.0237, 0.00995, 0.0135, 0.0234, 0.2272]"
      ],
      "metadata": {
        "id": "HY_gmQPwTBji"
      },
      "execution_count": null,
      "outputs": []
    },
    {
      "cell_type": "code",
      "source": [
        "# Etapa 3: Aplicar a transformação logarítmica\n",
        "# Usar np.log1p para evitar problemas com log de valores pequenos\n",
        "# Etapa 3: Aplicar a transformação logarítmica\n",
        "# Usar np.log1p para evitar problemas com log de valores pequenos\n",
        "article_pka_log = np.log1p(article_pka) # Changed article_p to article_pka\n",
        "hospital_pka_log = np.log1p(hospital_pka)\n"
      ],
      "metadata": {
        "id": "zyCgPl95T9Ct"
      },
      "execution_count": null,
      "outputs": []
    },
    {
      "cell_type": "code",
      "source": [
        "# Etapa 4: Plotar o histograma dos dados transformados\n",
        "plt.figure(figsize=(10, 6))  # Create a single figure with the desired size\n",
        "plt.hist(article_pka_log, alpha=0.5, label='Artigo (Log)', bins=5, color='blue')\n",
        "plt.hist(hospital_pka_log, alpha=0.5, label='Hospital (Log)', bins=5, color='orange')\n",
        "plt.title('Histograma dos Dados Transformados') # Set a clear title\n",
        "plt.xlabel('Valores de PKA (Log-transformados)') # Add x-axis label\n",
        "plt.ylabel('Frequência') # Add y-axis label\n",
        "plt.legend() # Display the legend\n",
        "plt.show() # Show the plot"
      ],
      "metadata": {
        "colab": {
          "base_uri": "https://localhost:8080/",
          "height": 479
        },
        "id": "AscLLVqvYr6U",
        "outputId": "e14679b6-5585-4bc6-88b8-571f1db688eb"
      },
      "execution_count": null,
      "outputs": [
        {
          "output_type": "display_data",
          "data": {
            "text/plain": [
              "<Figure size 1000x600 with 1 Axes>"
            ],
            "image/png": "[encoded data removed]"
          },
          "metadata": {}
        }
      ]
    },
    {
      "cell_type": "code",
      "source": [
        "\n",
        "# Etapa 3: Aplicar a transformação logarítmica\n",
        "article_pka_log = np.log1p(article_pka)\n",
        "hospital_pka_log = np.log1p(hospital_pka)\n",
        "\n",
        "# Etapa 4: Criar um gráfico de dispersão (opcional)\n",
        "# plt.scatter(article_pka_log, hospital_pka_log)  # Example scatter plot\n",
        "# plt.xlabel(\"Article PKA (log-transformed)\")\n",
        "# plt.ylabel(\"Hospital PKA (log-transformed)\")\n",
        "# plt.title(\"Comparison of PKA values\")\n",
        "# plt.show() # Now plt.show() will display the scatter plot if uncommented\n",
        "\n",
        "\n",
        "# Etapa 5: Realizar o Teste T com os dados transformados\n",
        "t_statistic, p_value = stats.ttest_ind(article_pka_log, hospital_pka_log, equal_var=False)\n",
        "\n",
        "# Imprimir os resultados\n",
        "if p_value < 0.05:\n",
        "    print(\"Há diferença estatisticamente significativa entre as amostras (p < 0.05)\")\n",
        "else:\n",
        "    print(\"Não há diferença estatisticamente significativa entre as amostras (p >= 0.05)\")"
      ],
      "metadata": {
        "colab": {
          "base_uri": "https://localhost:8080/"
        },
        "id": "saNCXUVoY16f",
        "outputId": "aa59cf4f-035a-4510-87f0-ddf8fb254800"
      },
      "execution_count": null,
      "outputs": [
        {
          "output_type": "stream",
          "name": "stdout",
          "text": [
            "Há diferença estatisticamente significativa entre as amostras (p < 0.05)\n"
          ]
        }
      ]
    },
    {
      "cell_type": "code",
      "source": [
        "# Exibir os resultados do Teste T\n",
        "print(\"Estatística T:\", t_statistic)\n",
        "print(\"Valor P:\", p_value)\n",
        "\n",
        "# Interpretar o resultado\n",
        "if p_value < 0.05:\n",
        "    print(\"Diferença estatisticamente significativa entre as amostras (p < 0.05)\")\n",
        "else:\n",
        "    print(\"Não há diferença estatisticamente significativa entre as amostras (p >= 0.05)\")"
      ],
      "metadata": {
        "colab": {
          "base_uri": "https://localhost:8080/"
        },
        "id": "bw9lmS2hZLXs",
        "outputId": "f95b36f0-721a-455c-c4fb-46192c6458f8"
      },
      "execution_count": null,
      "outputs": [
        {
          "output_type": "stream",
          "name": "stdout",
          "text": [
            "Estatística T: 6.484758627043235\n",
            "Valor P: 0.002832738446158938\n",
            "Diferença estatisticamente significativa entre as amostras (p < 0.05)\n"
          ]
        }
      ]
    },
    {
      "cell_type": "markdown",
      "source": [
        "teste ANOVA"
      ],
      "metadata": {
        "id": "8DVz7YnI4q4R"
      }
    },
    {
      "cell_type": "code",
      "source": [
        "# Importar as bibliotecas\n",
        "import numpy as np\n",
        "from scipy import stats\n",
        "\n",
        "# Dados de PKA do artigo e do hospital\n",
        "article_pka = [6, 22, 68, 107, 179]\n",
        "hospital_pka = [0.0237, 0.00995, 0.0135, 0.0234, 0.2272]\n",
        "\n",
        "# Aplicar o teste ANOVA\n",
        "f_statistic, p_value = stats.f_oneway(article_pka, hospital_pka)\n",
        "\n",
        "# Exibir os resultados\n",
        "print(f\"Estatística F: {f_statistic}\")\n",
        "print(f\"Valor P: {p_value}\")\n",
        "\n",
        "# Interpretação dos resultados\n",
        "if p_value < 0.05:\n",
        "    print(\"Diferença estatisticamente significativa (p < 0.05)\")\n",
        "else:\n",
        "    print(\"Não há diferença estatisticamente significativa (p >= 0.05)\")"
      ],
      "metadata": {
        "colab": {
          "base_uri": "https://localhost:8080/"
        },
        "id": "QF8jgml14t79",
        "outputId": "91fbc9e0-936f-4b03-a9a0-b5f1be1e3645"
      },
      "execution_count": null,
      "outputs": [
        {
          "output_type": "stream",
          "name": "stdout",
          "text": [
            "Estatística F: 5.992898149981414\n",
            "Valor P: 0.04005901821945861\n",
            "Diferença estatisticamente significativa (p < 0.05)\n"
          ]
        }
      ]
    }
  ]
}